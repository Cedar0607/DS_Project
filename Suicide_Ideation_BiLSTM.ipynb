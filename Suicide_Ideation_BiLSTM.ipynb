{
 "cells": [
  {
   "cell_type": "markdown",
   "id": "335dbe33",
   "metadata": {},
   "source": [
    "## Library Imports"
   ]
  },
  {
   "cell_type": "code",
   "execution_count": 1,
   "id": "86dece53",
   "metadata": {},
   "outputs": [],
   "source": [
    "import pandas as pd\n",
    "import numpy as np\n",
    "import os\n",
    "\n",
    "# for preprocessing\n",
    "import nltk\n",
    "from nltk.corpus import stopwords\n",
    "from nltk.stem.porter import *\n",
    "import re\n",
    "\n",
    "# for building the model\n",
    "import tensorflow as tf\n",
    "from sklearn.model_selection import train_test_split\n",
    "\n",
    "# for data visualization\n",
    "import seaborn as sns\n",
    "import matplotlib.pyplot as plt\n",
    "%matplotlib inline\n",
    "\n",
    "pd.options.plotting.backend = \"plotly\""
   ]
  },
  {
   "cell_type": "markdown",
   "id": "54546ba7",
   "metadata": {},
   "source": [
    "## Exploratory Data Analysis"
   ]
  },
  {
   "cell_type": "code",
   "execution_count": 13,
   "id": "223fb108",
   "metadata": {},
   "outputs": [],
   "source": [
    "df = pd.read_csv('Suicide ideation.csv')"
   ]
  },
  {
   "cell_type": "code",
   "execution_count": 17,
   "id": "09ebee4c",
   "metadata": {},
   "outputs": [
    {
     "data": {
      "text/plain": [
       "array([\"Ex Wife Threatening SuicideRecently I left my wife for good because she has cheated on me twice and lied to me so much that I have decided to refuse to go back to her. As of a few days ago, she began threatening suicide. I have tirelessly spent these paat few days talking her out of it and she keeps hesitating because she wants to believe I'll come back. I know a lot of people will threaten this in order to get their way, but what happens if she really does? What do I do and how am I supposed to handle her death on my hands? I still love my wife but I cannot deal with getting cheated on again and constantly feeling insecure. I'm worried today may be the day she does it and I hope so much it doesn't happen.\",\n",
       "       \"Am I weird I don't get affected by compliments if it's coming from someone I know irl but I feel really good when internet strangers do it\",\n",
       "       'Finally 2020 is almost over... So I can never hear \"2020 has been a bad year\" ever again. I swear to fucking God it\\'s so annoying',\n",
       "       'i need helpjust help me im crying so hard',\n",
       "       'I’m so lostHello, my name is Adam (16) and I’ve been struggling for years and I’m afraid. Through these past years thoughts of suicide, fear, anxiety I’m so close to my limit . I’ve been quiet for so long and I’m too scared to come out to my family about these feelings. About 3 years ago  losing my aunt triggered it all. Everyday feeling hopeless , lost, guilty, and remorseful over her and all the things I’ve done in my life,but thoughts like these with the little I’ve experienced in life? Only time I’ve revealed these feelings to my family is when I broke down where they saw my cuts. Watching them get so worried over something I portrayed as an average day made me feel absolutely dreadful. They later found out I was an attempt survivor from attempt OD(overdose from pills) and attempt hanging. All that happened was a blackout from the pills and I never went through with the noose because I’m still so afraid. During my first therapy I was diagnosed with severe depression, social anxiety, and a eating disorder.\\nI was later transferred to a fucken group therapy for some reason which made me feel more anxious. Eventually before my last session with a 1 on 1 therapy she showed me my results from a daily check up on my feelings(which was a 2 - step survey for me and my mom/dad )\\nCome to find out as I’ve been putting feeling horrible and afraid/anxious everyday , my mom has been doing I’ve been doing absolutely amazing with me described as “happiest she’s ever seen me, therapy has helped him” \\nI eventually was put on Sertaline (anti anxiety or anti depression I’m sorry I forgot) but I never finished my first prescription nor ever found the right type of anti depressant because my mom thought I only wanted the drugs so she took me off my recommended pill schedule after ~3 week and stopped me from taking them. All this time I’ve been feeling worse afraid of the damage/ worry I’ve caused them even more. \\nNow here with everything going on, I’m as afraid as I’ve ever been . I’ve relapsed on cutting and have developed severe insomnia . Day after day feeling more hopeless, worthless questioning why am I still here? What’s my motivation to move out of bed and keep going? I ask these to myself nearly every night almost having a break down everytime. \\nPlease Please Please someone.. anyone help me.\\nI’m so scared I might do something drastic, I’ve been shaped by fear and anxiety. Idk what to do anymore'],\n",
       "      dtype=object)"
      ]
     },
     "execution_count": 17,
     "metadata": {},
     "output_type": "execute_result"
    }
   ],
   "source": [
    "df['text'][:5].values"
   ]
  },
  {
   "cell_type": "code",
   "execution_count": 3,
   "id": "e5c1ca5f",
   "metadata": {},
   "outputs": [
    {
     "data": {
      "text/html": [
       "<div>\n",
       "<style scoped>\n",
       "    .dataframe tbody tr th:only-of-type {\n",
       "        vertical-align: middle;\n",
       "    }\n",
       "\n",
       "    .dataframe tbody tr th {\n",
       "        vertical-align: top;\n",
       "    }\n",
       "\n",
       "    .dataframe thead th {\n",
       "        text-align: right;\n",
       "    }\n",
       "</style>\n",
       "<table border=\"1\" class=\"dataframe\">\n",
       "  <thead>\n",
       "    <tr style=\"text-align: right;\">\n",
       "      <th></th>\n",
       "      <th>Unnamed: 0</th>\n",
       "      <th>text</th>\n",
       "      <th>class</th>\n",
       "    </tr>\n",
       "  </thead>\n",
       "  <tbody>\n",
       "    <tr>\n",
       "      <th>0</th>\n",
       "      <td>2</td>\n",
       "      <td>Ex Wife Threatening SuicideRecently I left my ...</td>\n",
       "      <td>suicide</td>\n",
       "    </tr>\n",
       "    <tr>\n",
       "      <th>1</th>\n",
       "      <td>3</td>\n",
       "      <td>Am I weird I don't get affected by compliments...</td>\n",
       "      <td>non-suicide</td>\n",
       "    </tr>\n",
       "    <tr>\n",
       "      <th>2</th>\n",
       "      <td>4</td>\n",
       "      <td>Finally 2020 is almost over... So I can never ...</td>\n",
       "      <td>non-suicide</td>\n",
       "    </tr>\n",
       "    <tr>\n",
       "      <th>3</th>\n",
       "      <td>8</td>\n",
       "      <td>i need helpjust help me im crying so hard</td>\n",
       "      <td>suicide</td>\n",
       "    </tr>\n",
       "    <tr>\n",
       "      <th>4</th>\n",
       "      <td>9</td>\n",
       "      <td>I’m so lostHello, my name is Adam (16) and I’v...</td>\n",
       "      <td>suicide</td>\n",
       "    </tr>\n",
       "  </tbody>\n",
       "</table>\n",
       "</div>"
      ],
      "text/plain": [
       "   Unnamed: 0                                               text        class\n",
       "0           2  Ex Wife Threatening SuicideRecently I left my ...      suicide\n",
       "1           3  Am I weird I don't get affected by compliments...  non-suicide\n",
       "2           4  Finally 2020 is almost over... So I can never ...  non-suicide\n",
       "3           8          i need helpjust help me im crying so hard      suicide\n",
       "4           9  I’m so lostHello, my name is Adam (16) and I’v...      suicide"
      ]
     },
     "execution_count": 3,
     "metadata": {},
     "output_type": "execute_result"
    }
   ],
   "source": [
    "df.head(5)"
   ]
  },
  {
   "cell_type": "code",
   "execution_count": 4,
   "id": "7362d7b3",
   "metadata": {},
   "outputs": [
    {
     "data": {
      "text/plain": [
       "Unnamed: 0    0\n",
       "text          0\n",
       "class         0\n",
       "dtype: int64"
      ]
     },
     "execution_count": 4,
     "metadata": {},
     "output_type": "execute_result"
    }
   ],
   "source": [
    "# Check for missing data\n",
    "df.isnull().sum()"
   ]
  },
  {
   "cell_type": "code",
   "execution_count": 5,
   "id": "bdeb8d24",
   "metadata": {},
   "outputs": [
    {
     "data": {
      "text/plain": [
       "suicide        116037\n",
       "non-suicide    116037\n",
       "Name: class, dtype: int64"
      ]
     },
     "execution_count": 5,
     "metadata": {},
     "output_type": "execute_result"
    }
   ],
   "source": [
    "# Distribution of sentiments\n",
    "df['class'].value_counts()"
   ]
  },
  {
   "cell_type": "code",
   "execution_count": 6,
   "id": "d61ab9d9",
   "metadata": {},
   "outputs": [],
   "source": [
    "# Digitize text attributes\n",
    "df['target'] = df['class'].apply(lambda x: 1 if x == 'suicide' else 0)\n",
    "\n",
    "# rename the first column and set it to an orders series starting at 0\n",
    "df = df.rename(columns={'Unnamed: 0': 'number'})\n",
    "df['number'] = range(len(df))"
   ]
  },
  {
   "cell_type": "code",
   "execution_count": 7,
   "id": "1c0e963e",
   "metadata": {},
   "outputs": [
    {
     "data": {
      "text/html": [
       "<div>\n",
       "<style scoped>\n",
       "    .dataframe tbody tr th:only-of-type {\n",
       "        vertical-align: middle;\n",
       "    }\n",
       "\n",
       "    .dataframe tbody tr th {\n",
       "        vertical-align: top;\n",
       "    }\n",
       "\n",
       "    .dataframe thead th {\n",
       "        text-align: right;\n",
       "    }\n",
       "</style>\n",
       "<table border=\"1\" class=\"dataframe\">\n",
       "  <thead>\n",
       "    <tr style=\"text-align: right;\">\n",
       "      <th></th>\n",
       "      <th>number</th>\n",
       "      <th>text</th>\n",
       "      <th>class</th>\n",
       "      <th>target</th>\n",
       "    </tr>\n",
       "  </thead>\n",
       "  <tbody>\n",
       "    <tr>\n",
       "      <th>0</th>\n",
       "      <td>0</td>\n",
       "      <td>Ex Wife Threatening SuicideRecently I left my ...</td>\n",
       "      <td>suicide</td>\n",
       "      <td>1</td>\n",
       "    </tr>\n",
       "    <tr>\n",
       "      <th>1</th>\n",
       "      <td>1</td>\n",
       "      <td>Am I weird I don't get affected by compliments...</td>\n",
       "      <td>non-suicide</td>\n",
       "      <td>0</td>\n",
       "    </tr>\n",
       "    <tr>\n",
       "      <th>2</th>\n",
       "      <td>2</td>\n",
       "      <td>Finally 2020 is almost over... So I can never ...</td>\n",
       "      <td>non-suicide</td>\n",
       "      <td>0</td>\n",
       "    </tr>\n",
       "    <tr>\n",
       "      <th>3</th>\n",
       "      <td>3</td>\n",
       "      <td>i need helpjust help me im crying so hard</td>\n",
       "      <td>suicide</td>\n",
       "      <td>1</td>\n",
       "    </tr>\n",
       "    <tr>\n",
       "      <th>4</th>\n",
       "      <td>4</td>\n",
       "      <td>I’m so lostHello, my name is Adam (16) and I’v...</td>\n",
       "      <td>suicide</td>\n",
       "      <td>1</td>\n",
       "    </tr>\n",
       "  </tbody>\n",
       "</table>\n",
       "</div>"
      ],
      "text/plain": [
       "   number                                               text        class  \\\n",
       "0       0  Ex Wife Threatening SuicideRecently I left my ...      suicide   \n",
       "1       1  Am I weird I don't get affected by compliments...  non-suicide   \n",
       "2       2  Finally 2020 is almost over... So I can never ...  non-suicide   \n",
       "3       3          i need helpjust help me im crying so hard      suicide   \n",
       "4       4  I’m so lostHello, my name is Adam (16) and I’v...      suicide   \n",
       "\n",
       "   target  \n",
       "0       1  \n",
       "1       0  \n",
       "2       0  \n",
       "3       1  \n",
       "4       1  "
      ]
     },
     "execution_count": 7,
     "metadata": {},
     "output_type": "execute_result"
    }
   ],
   "source": [
    "df.head(5)"
   ]
  },
  {
   "cell_type": "code",
   "execution_count": 10,
   "id": "78737b40",
   "metadata": {},
   "outputs": [
    {
     "name": "stdout",
     "output_type": "stream",
     "text": [
      "Collecting wordcloud\n",
      "  Downloading wordcloud-1.9.2-cp39-cp39-win_amd64.whl (153 kB)\n",
      "Requirement already satisfied: pillow in d:\\anaconda3\\lib\\site-packages (from wordcloud) (9.0.1)\n",
      "Requirement already satisfied: numpy>=1.6.1 in d:\\anaconda3\\lib\\site-packages (from wordcloud) (1.21.5)\n",
      "Requirement already satisfied: matplotlib in d:\\anaconda3\\lib\\site-packages (from wordcloud) (3.5.1)\n",
      "Requirement already satisfied: cycler>=0.10 in d:\\anaconda3\\lib\\site-packages (from matplotlib->wordcloud) (0.11.0)\n",
      "Requirement already satisfied: fonttools>=4.22.0 in d:\\anaconda3\\lib\\site-packages (from matplotlib->wordcloud) (4.25.0)\n",
      "Requirement already satisfied: pyparsing>=2.2.1 in d:\\anaconda3\\lib\\site-packages (from matplotlib->wordcloud) (3.0.4)\n",
      "Requirement already satisfied: python-dateutil>=2.7 in d:\\anaconda3\\lib\\site-packages (from matplotlib->wordcloud) (2.8.2)\n",
      "Requirement already satisfied: packaging>=20.0 in d:\\anaconda3\\lib\\site-packages (from matplotlib->wordcloud) (21.3)\n",
      "Requirement already satisfied: kiwisolver>=1.0.1 in d:\\anaconda3\\lib\\site-packages (from matplotlib->wordcloud) (1.3.2)\n",
      "Requirement already satisfied: six>=1.5 in d:\\anaconda3\\lib\\site-packages (from python-dateutil>=2.7->matplotlib->wordcloud) (1.16.0)\n",
      "Installing collected packages: wordcloud\n",
      "Successfully installed wordcloud-1.9.2\n"
     ]
    }
   ],
   "source": [
    "!pip install wordcloud"
   ]
  },
  {
   "cell_type": "code",
   "execution_count": null,
   "id": "51b63307",
   "metadata": {},
   "outputs": [],
   "source": [
    "# visualize data into wordclouds\n",
    "\n",
    "from wordcloud import WordCloud, STOPWORDS\n",
    "\n",
    "def wordcount_gen(df, category):\n",
    "\n",
    "    # select the text in specific category\n",
    "    texts = \" \".join([word for word in df[df['class']==category]['text']])\n",
    "\n",
    "    # initialize wordcloud object\n",
    "    wc = WordCloud(background_color='white',\n",
    "                   max_words=200,\n",
    "                   stopwords=STOPWORDS)\n",
    "\n",
    "    # generate and plot wordcloud\n",
    "    plt.figure(figsize=(10,10))\n",
    "    plt.imshow(wc.generate(texts))\n",
    "    plt.title('{} Related Words'.format(category), fontsize=20)\n",
    "    plt.axis('off')\n",
    "    plt.show()\n",
    "\n",
    "# Suicide words\n",
    "wordcount_gen(df, 'suicide')\n",
    "\n",
    "# Non-Suicide words\n",
    "wordcount_gen(df, 'non-suicide')"
   ]
  },
  {
   "cell_type": "markdown",
   "id": "273e9643",
   "metadata": {},
   "source": [
    "## Data Proprocessing"
   ]
  },
  {
   "cell_type": "code",
   "execution_count": 2,
   "id": "6bc60479",
   "metadata": {},
   "outputs": [],
   "source": [
    "import pickle\n",
    "from keras.preprocessing.text import Tokenizer\n",
    "from keras.preprocessing.sequence import pad_sequences\n",
    "from sklearn.feature_extraction.text import CountVectorizer\n",
    "import keras.backend as K"
   ]
  },
  {
   "cell_type": "code",
   "execution_count": null,
   "id": "dc37120c",
   "metadata": {},
   "outputs": [],
   "source": [
    "# Data Preprocessing\n",
    "def tweet_to_words(tweet):\n",
    "    # convert to lowercase\n",
    "    text = tweet.lower()\n",
    "    # remove non letters\n",
    "    text = re.sub(r\"[^a-zA-Z0-9]\", \" \", text)\n",
    "    # tokenize\n",
    "    words = text.split()\n",
    "    # remove stopwords\n",
    "    words = [w for w in words if w not in stopwords.words(\"english\")]\n",
    "    # apply stemming\n",
    "    words = [PorterStemmer().stem(w) for w in words]\n",
    "    # return list\n",
    "    return words\n",
    "\n",
    "# Apply data processing to each tweet\n",
    "X = list(map(tweet_to_words, df['text']))\n",
    "\n",
    "# Encode target labels\n",
    "y = df['target']\n"
   ]
  },
  {
   "cell_type": "markdown",
   "id": "2060dc7b",
   "metadata": {},
   "source": [
    "### Load the preprocessed X and y"
   ]
  },
  {
   "cell_type": "code",
   "execution_count": 121,
   "id": "f7ff35fe",
   "metadata": {},
   "outputs": [],
   "source": [
    "# # Save X and y to a file\n",
    "# with open('processed_data.pkl', 'wb') as file:\n",
    "#     pickle.dump((X, y), file)"
   ]
  },
  {
   "cell_type": "code",
   "execution_count": null,
   "id": "6ac7a486",
   "metadata": {},
   "outputs": [],
   "source": [
    "# Load X and y from the file\n",
    "with open('processed_data.pkl', 'rb') as file:\n",
    "    X, y = pickle.load(file)\n",
    "y = df['target']"
   ]
  },
  {
   "cell_type": "code",
   "execution_count": 14,
   "id": "6d49c9ca",
   "metadata": {},
   "outputs": [
    {
     "name": "stdout",
     "output_type": "stream",
     "text": [
      "[ 291   25  225  751    6   48   18  121  944  958   27  465   18   26\n",
      "   67 2058    2  198   77   48    5  101    9  958  714    4   38   88\n",
      "   17  339  479  183  330   50   32  569  406  218    4  698  309    3\n",
      " 1271  268  126  272   18   98   25   88]\n",
      "1\n",
      "232074\n",
      "232074\n"
     ]
    }
   ],
   "source": [
    "print(X[0])\n",
    "print(y[0])\n",
    "print(len(X))\n",
    "print(len(y))"
   ]
  },
  {
   "cell_type": "code",
   "execution_count": null,
   "id": "92794a66",
   "metadata": {},
   "outputs": [],
   "source": [
    "# Tokenizing & Padding\n",
    "vocabulary_size = 5000\n",
    "max_len = 50\n",
    "\n",
    "# Tokenize and Pad sequences for training, validation, and testing\n",
    "def tokenize_pad_sequences(text):\n",
    "    '''\n",
    "    This function tokenizes the input text into sequences of integers and then\n",
    "    pads each sequence to the same length.\n",
    "    '''\n",
    "    tokenizer = Tokenizer(num_words=vocabulary_size, lower=True, split=' ')\n",
    "    tokenizer.fit_on_texts(text)\n",
    "    X = tokenizer.texts_to_sequences(text)\n",
    "    X = pad_sequences(X, padding='post', maxlen=max_len)\n",
    "    return X,tokenizer\n",
    "\n",
    "print('The orginal texts before tokenize and padding \\n', X[0])\n",
    "X, tokenizer = tokenize_pad_sequences(X)\n",
    "print('The same texts after tokenize and padding \\n', X[0])\n"
   ]
  },
  {
   "cell_type": "code",
   "execution_count": 13,
   "id": "dba2ff02",
   "metadata": {},
   "outputs": [],
   "source": [
    "# # Saving tokenized data\n",
    "# with open('tokenizer.pickle', 'wb') as handle:\n",
    "#     pickle.dump(tokenizer, handle, protocol=pickle.HIGHEST_PROTOCOL)"
   ]
  },
  {
   "cell_type": "markdown",
   "id": "233b3425",
   "metadata": {},
   "source": [
    "### loading the tokenizer"
   ]
  },
  {
   "cell_type": "code",
   "execution_count": 3,
   "id": "c5f83b7e",
   "metadata": {},
   "outputs": [],
   "source": [
    "# loading\n",
    "with open('tokenizer.pickle', 'rb') as handle:\n",
    "    tokenizer = pickle.load(handle)\n"
   ]
  },
  {
   "cell_type": "code",
   "execution_count": 13,
   "id": "469fffe8",
   "metadata": {},
   "outputs": [
    {
     "name": "stdout",
     "output_type": "stream",
     "text": [
      "Train Set -> (139244, 50) (139244,)\n",
      "Validation Set -> (46415, 50) (46415,)\n",
      "Test Set -> (46415, 50) (46415,)\n"
     ]
    }
   ],
   "source": [
    "# Train and test split\n",
    "X_train, X_test, y_train, y_test = train_test_split(X, y, test_size=0.2, random_state=1)\n",
    "X_train, X_val, y_train, y_val = train_test_split(X_train, y_train, test_size=0.25, random_state=1)\n",
    "\n",
    "print('Train Set ->', X_train.shape, y_train.shape)\n",
    "print('Validation Set ->', X_val.shape, y_val.shape)\n",
    "print('Test Set ->', X_test.shape, y_test.shape)"
   ]
  },
  {
   "cell_type": "code",
   "execution_count": 15,
   "id": "009ff3a7",
   "metadata": {},
   "outputs": [],
   "source": [
    "# Function to calculate F1 score\n",
    "def f1_score(precision, recall):\n",
    "    f1_val = 2 * (precision * recall) / (precision + recall + K.epsilon())\n",
    "    return f1_val"
   ]
  },
  {
   "cell_type": "markdown",
   "id": "7a4bad3e",
   "metadata": {},
   "source": [
    "## Model Creation: BiLSTM"
   ]
  },
  {
   "cell_type": "code",
   "execution_count": 16,
   "id": "e8b24a56",
   "metadata": {},
   "outputs": [],
   "source": [
    "from keras.models import Sequential\n",
    "from keras.layers import Embedding, Conv1D, MaxPooling1D, Bidirectional, LSTM, Dense, Dropout\n",
    "from keras.metrics import Precision, Recall\n",
    "from tensorflow.keras.optimizers import legacy\n",
    "from keras.optimizers import Adam\n",
    "from keras import datasets\n",
    "from keras import losses\n",
    "from keras.callbacks import LearningRateScheduler, History, EarlyStopping\n",
    "\n",
    "vocab_size = 5000\n",
    "embedding_size = 32\n",
    "epochs = 20\n",
    "learning_rate = 0.1\n",
    "decay_rate = learning_rate / epochs\n",
    "momentum = 0.8\n",
    "max_len = 50\n",
    "\n",
    "# build the model\n",
    "model = Sequential()\n",
    "model.add(Embedding(vocab_size, embedding_size, input_length=max_len))\n",
    "model.add(Conv1D(filters=32, kernel_size=3, padding='same',activation='relu'))\n",
    "model.add(MaxPooling1D(pool_size=2))\n",
    "model.add(Bidirectional(LSTM(32)))\n",
    "model.add(Dropout(0.4))\n",
    "model.add(Dense(1, activation='sigmoid'))\n",
    "\n",
    "\n",
    "#optimizer = legacy.RMSprop(learning_rate=learning_rate, decay=decay_rate)\n",
    "optimizer = legacy.SGD(learning_rate=learning_rate, momentum=momentum, decay=decay_rate, nesterov=False)\n",
    "\n",
    "model.compile(loss='binary_crossentropy', optimizer=optimizer, metrics=['accuracy', Precision(), Recall()])\n",
    "\n",
    "# apply early stopping to prevent overfitting\n",
    "early_stopping = EarlyStopping(monitor='val_loss', patience=3, restore_best_weights=True)"
   ]
  },
  {
   "cell_type": "code",
   "execution_count": 19,
   "id": "bd4a55bb",
   "metadata": {},
   "outputs": [
    {
     "data": {
      "image/png": "[encoded data removed]",
      "text/plain": [
       "<IPython.core.display.Image object>"
      ]
     },
     "execution_count": 19,
     "metadata": {},
     "output_type": "execute_result"
    }
   ],
   "source": [
    "# plot the model\n",
    "tf.keras.utils.plot_model(model, show_shapes=True)"
   ]
  },
  {
   "cell_type": "code",
   "execution_count": 20,
   "id": "986fb7e8",
   "metadata": {},
   "outputs": [
    {
     "name": "stdout",
     "output_type": "stream",
     "text": [
      "Model: \"sequential\"\n",
      "_________________________________________________________________\n",
      " Layer (type)                Output Shape              Param #   \n",
      "=================================================================\n",
      " embedding (Embedding)       (None, 50, 32)            160000    \n",
      "                                                                 \n",
      " conv1d (Conv1D)             (None, 50, 32)            3104      \n",
      "                                                                 \n",
      " max_pooling1d (MaxPooling1  (None, 25, 32)            0         \n",
      " D)                                                              \n",
      "                                                                 \n",
      " bidirectional (Bidirection  (None, 64)                16640     \n",
      " al)                                                             \n",
      "                                                                 \n",
      " dropout (Dropout)           (None, 64)                0         \n",
      "                                                                 \n",
      " dense (Dense)               (None, 1)                 65        \n",
      "                                                                 \n",
      "=================================================================\n",
      "Total params: 179809 (702.38 KB)\n",
      "Trainable params: 179809 (702.38 KB)\n",
      "Non-trainable params: 0 (0.00 Byte)\n",
      "_________________________________________________________________\n",
      "None\n"
     ]
    }
   ],
   "source": [
    "# Print model summary\n",
    "print(model.summary())"
   ]
  },
  {
   "cell_type": "code",
   "execution_count": 21,
   "id": "fba93337",
   "metadata": {},
   "outputs": [
    {
     "name": "stdout",
     "output_type": "stream",
     "text": [
      "Epoch 1/20\n",
      "2176/2176 [==============================] - 26s 11ms/step - loss: 0.3235 - accuracy: 0.8675 - precision: 0.8836 - recall: 0.8460 - val_loss: 0.2578 - val_accuracy: 0.8993 - val_precision: 0.9396 - val_recall: 0.8544\n",
      "Epoch 2/20\n",
      "2176/2176 [==============================] - 24s 11ms/step - loss: 0.2301 - accuracy: 0.9122 - precision: 0.9166 - recall: 0.9065 - val_loss: 0.2233 - val_accuracy: 0.9127 - val_precision: 0.9263 - val_recall: 0.8974\n",
      "Epoch 3/20\n",
      "2176/2176 [==============================] - 25s 12ms/step - loss: 0.2176 - accuracy: 0.9176 - precision: 0.9216 - recall: 0.9126 - val_loss: 0.2174 - val_accuracy: 0.9162 - val_precision: 0.9278 - val_recall: 0.9033\n",
      "Epoch 4/20\n",
      "2176/2176 [==============================] - 24s 11ms/step - loss: 0.2111 - accuracy: 0.9200 - precision: 0.9237 - recall: 0.9154 - val_loss: 0.2148 - val_accuracy: 0.9171 - val_precision: 0.9172 - val_recall: 0.9176\n",
      "Epoch 5/20\n",
      "2176/2176 [==============================] - 24s 11ms/step - loss: 0.2070 - accuracy: 0.9217 - precision: 0.9249 - recall: 0.9176 - val_loss: 0.2113 - val_accuracy: 0.9188 - val_precision: 0.9246 - val_recall: 0.9127\n",
      "Epoch 6/20\n",
      "2176/2176 [==============================] - 23s 11ms/step - loss: 0.2044 - accuracy: 0.9227 - precision: 0.9260 - recall: 0.9186 - val_loss: 0.2109 - val_accuracy: 0.9190 - val_precision: 0.9298 - val_recall: 0.9072\n",
      "Epoch 7/20\n",
      "2176/2176 [==============================] - 22s 10ms/step - loss: 0.2018 - accuracy: 0.9243 - precision: 0.9269 - recall: 0.9211 - val_loss: 0.2099 - val_accuracy: 0.9193 - val_precision: 0.9272 - val_recall: 0.9106\n",
      "Epoch 8/20\n",
      "2176/2176 [==============================] - 24s 11ms/step - loss: 0.1992 - accuracy: 0.9246 - precision: 0.9273 - recall: 0.9212 - val_loss: 0.2114 - val_accuracy: 0.9184 - val_precision: 0.9344 - val_recall: 0.9006\n",
      "Epoch 9/20\n",
      "2176/2176 [==============================] - 23s 10ms/step - loss: 0.1983 - accuracy: 0.9253 - precision: 0.9279 - recall: 0.9221 - val_loss: 0.2081 - val_accuracy: 0.9201 - val_precision: 0.9308 - val_recall: 0.9084\n",
      "Epoch 10/20\n",
      "2176/2176 [==============================] - 24s 11ms/step - loss: 0.1966 - accuracy: 0.9262 - precision: 0.9288 - recall: 0.9229 - val_loss: 0.2069 - val_accuracy: 0.9213 - val_precision: 0.9243 - val_recall: 0.9185\n",
      "Epoch 11/20\n",
      "2176/2176 [==============================] - 23s 10ms/step - loss: 0.1963 - accuracy: 0.9261 - precision: 0.9281 - recall: 0.9235 - val_loss: 0.2059 - val_accuracy: 0.9210 - val_precision: 0.9281 - val_recall: 0.9134\n",
      "Epoch 12/20\n",
      "2176/2176 [==============================] - 22s 10ms/step - loss: 0.1951 - accuracy: 0.9266 - precision: 0.9288 - recall: 0.9239 - val_loss: 0.2057 - val_accuracy: 0.9216 - val_precision: 0.9268 - val_recall: 0.9161\n",
      "Epoch 13/20\n",
      "2176/2176 [==============================] - 23s 10ms/step - loss: 0.1940 - accuracy: 0.9272 - precision: 0.9292 - recall: 0.9247 - val_loss: 0.2055 - val_accuracy: 0.9216 - val_precision: 0.9254 - val_recall: 0.9179\n",
      "Epoch 14/20\n",
      "2176/2176 [==============================] - 24s 11ms/step - loss: 0.1935 - accuracy: 0.9274 - precision: 0.9295 - recall: 0.9246 - val_loss: 0.2056 - val_accuracy: 0.9216 - val_precision: 0.9306 - val_recall: 0.9118\n",
      "Epoch 15/20\n",
      "2176/2176 [==============================] - 24s 11ms/step - loss: 0.1922 - accuracy: 0.9281 - precision: 0.9303 - recall: 0.9253 - val_loss: 0.2045 - val_accuracy: 0.9223 - val_precision: 0.9215 - val_recall: 0.9238\n",
      "Epoch 16/20\n",
      "2176/2176 [==============================] - 26s 12ms/step - loss: 0.1915 - accuracy: 0.9283 - precision: 0.9302 - recall: 0.9258 - val_loss: 0.2045 - val_accuracy: 0.9224 - val_precision: 0.9302 - val_recall: 0.9140\n",
      "Epoch 17/20\n",
      "2176/2176 [==============================] - 26s 12ms/step - loss: 0.1912 - accuracy: 0.9285 - precision: 0.9305 - recall: 0.9260 - val_loss: 0.2040 - val_accuracy: 0.9220 - val_precision: 0.9295 - val_recall: 0.9138\n",
      "Epoch 18/20\n",
      "2176/2176 [==============================] - 26s 12ms/step - loss: 0.1908 - accuracy: 0.9283 - precision: 0.9299 - recall: 0.9262 - val_loss: 0.2032 - val_accuracy: 0.9226 - val_precision: 0.9279 - val_recall: 0.9170\n",
      "Epoch 19/20\n",
      "2176/2176 [==============================] - 26s 12ms/step - loss: 0.1902 - accuracy: 0.9290 - precision: 0.9310 - recall: 0.9264 - val_loss: 0.2037 - val_accuracy: 0.9223 - val_precision: 0.9298 - val_recall: 0.9143\n",
      "Epoch 20/20\n",
      "2176/2176 [==============================] - 26s 12ms/step - loss: 0.1897 - accuracy: 0.9292 - precision: 0.9311 - recall: 0.9267 - val_loss: 0.2030 - val_accuracy: 0.9227 - val_precision: 0.9262 - val_recall: 0.9192\n"
     ]
    }
   ],
   "source": [
    "# train model\n",
    "batch_size = 64\n",
    "history = model.fit(X_train, y_train,validation_data=(X_val, y_val),batch_size=batch_size,epochs=epochs,callbacks=[early_stopping],verbose=1)"
   ]
  },
  {
   "cell_type": "markdown",
   "id": "35b71938",
   "metadata": {},
   "source": [
    "### Model validation"
   ]
  },
  {
   "cell_type": "code",
   "execution_count": 22,
   "id": "236bd504",
   "metadata": {},
   "outputs": [
    {
     "data": {
      "image/png": "[encoded data removed]",
      "text/plain": [
       "<Figure size 1000x400 with 2 Axes>"
      ]
     },
     "metadata": {},
     "output_type": "display_data"
    }
   ],
   "source": [
    "# define the function for plot history for accuracy and loss\n",
    "def plot_training_hist(history):\n",
    "\n",
    "    fig, ax = plt.subplots(1, 2, figsize=(10,4))\n",
    "    # first plot\n",
    "    ax[0].plot(history.history['accuracy'])\n",
    "    ax[0].plot(history.history['val_accuracy'])\n",
    "    ax[0].set_title('Model Accuracy')\n",
    "    ax[0].set_xlabel('epoch')\n",
    "    ax[0].set_ylabel('accuracy')\n",
    "    ax[0].legend(['train','validation'], loc='best')\n",
    "    # second plot\n",
    "    ax[1].plot(history.history['loss'])\n",
    "    ax[1].plot(history.history['val_loss'])\n",
    "    ax[1].set_title('Model Loss')\n",
    "    ax[1].set_xlabel('epoch')\n",
    "    ax[1].set_ylabel('loss')\n",
    "    ax[1].legend(['train','validation'], loc='best')\n",
    "\n",
    "plot_training_hist(history)"
   ]
  },
  {
   "cell_type": "code",
   "execution_count": 23,
   "id": "14da8409",
   "metadata": {},
   "outputs": [
    {
     "name": "stdout",
     "output_type": "stream",
     "text": [
      "\n",
      "Accuracy     :0.9225\n",
      "Precision    :0.9225\n",
      "Recall       :0.9226\n",
      "F1 Score     :0.9226\n"
     ]
    }
   ],
   "source": [
    "# evaluate model on the testset\n",
    "loss, accuracy, precision, recall = model.evaluate(X_test, y_test, verbose=0)\n",
    "# print metrics\n",
    "print('')\n",
    "print('Accuracy     :{:.4f}'.format(accuracy))\n",
    "print('Precision    :{:.4f}'.format(precision))\n",
    "print('Recall       :{:.4f}'.format(recall))\n",
    "print('F1 Score     :{:.4f}'.format(f1_score(precision, recall)))"
   ]
  },
  {
   "cell_type": "markdown",
   "id": "61493d3d",
   "metadata": {},
   "source": [
    "### Confusion Matrix"
   ]
  },
  {
   "cell_type": "code",
   "execution_count": 24,
   "id": "265512cf",
   "metadata": {},
   "outputs": [
    {
     "name": "stdout",
     "output_type": "stream",
     "text": [
      "1451/1451 [==============================] - 4s 2ms/step\n"
     ]
    },
    {
     "data": {
      "image/png": "[encoded data removed]",
      "text/plain": [
       "<Figure size 800x600 with 2 Axes>"
      ]
     },
     "metadata": {},
     "output_type": "display_data"
    }
   ],
   "source": [
    "from sklearn.metrics import confusion_matrix\n",
    "\n",
    "def plot_confusion_matrix(model, X_test, y_test, threshold=0.5):\n",
    "    '''Function to plot confusion matrix for the passed model and the data'''\n",
    "    \n",
    "    sentiment_classes = ['non-suicide', 'suicide']\n",
    "    # use model to do the prediction\n",
    "    y_pred_prob = model.predict(X_test)\n",
    "    y_pred = (y_pred_prob > threshold).astype(int)\n",
    "    # compute confusion matrix\n",
    "    cm = confusion_matrix(y_test, y_pred)\n",
    "    # plot confusion matrix\n",
    "    plt.figure(figsize=(8,6))\n",
    "    sns.heatmap(cm, cmap=plt.cm.Blues, annot=True, fmt='d', \n",
    "                xticklabels=sentiment_classes,\n",
    "                yticklabels=sentiment_classes)\n",
    "    plt.title('Confusion matrix', fontsize=16)\n",
    "    plt.xlabel('Actual label', fontsize=12)\n",
    "    plt.ylabel('Predicted label', fontsize=12)\n",
    "    \n",
    "plot_confusion_matrix(model, X_test, y_test)"
   ]
  },
  {
   "cell_type": "markdown",
   "id": "3287f1e2",
   "metadata": {},
   "source": [
    "### Save the best model and prediction for specific texts"
   ]
  },
  {
   "cell_type": "code",
   "execution_count": 25,
   "id": "dd2c2393",
   "metadata": {},
   "outputs": [
    {
     "name": "stdout",
     "output_type": "stream",
     "text": [
      "Best model saved\n"
     ]
    },
    {
     "name": "stderr",
     "output_type": "stream",
     "text": [
      "d:\\anaconda3\\envs\\data_analytics\\lib\\site-packages\\keras\\src\\engine\\training.py:3000: UserWarning: You are saving your model as an HDF5 file via `model.save()`. This file format is considered legacy. We recommend using instead the native Keras format, e.g. `model.save('my_model.keras')`.\n",
      "  saving_api.save_model(\n"
     ]
    }
   ],
   "source": [
    "# Save the model architecture & the weights\n",
    "model.save('best_model.h5')\n",
    "print('Best model saved')"
   ]
  },
  {
   "cell_type": "code",
   "execution_count": 4,
   "id": "b58f323b",
   "metadata": {},
   "outputs": [],
   "source": [
    "from keras.models import load_model\n",
    "\n",
    "# Load model\n",
    "model = load_model('best_model.h5')\n",
    "\n",
    "def predict_class(text):\n",
    "    '''Function to predict sentiment class of the passed text'''\n",
    "    \n",
    "    sentiment_classes = ['Non Suicidal', 'Suicidal']\n",
    "    max_len=50\n",
    "    \n",
    "    # Transforms text to a sequence of integers using a tokenizer object\n",
    "    xt = tokenizer.texts_to_sequences(text)\n",
    "    # Pad sequences to the same length\n",
    "    xt = pad_sequences(xt, padding='post', maxlen=max_len)\n",
    "    # Do the prediction using the loaded model\n",
    "    yt_prob = model.predict(xt)\n",
    "    yt = (yt_prob > 0.5).astype(int)\n",
    "    # Print the predicted sentiment\n",
    "    print('The predicted sentiment is', sentiment_classes[yt[0][0]])"
   ]
  },
  {
   "cell_type": "code",
   "execution_count": 5,
   "id": "11a6804e",
   "metadata": {},
   "outputs": [
    {
     "name": "stdout",
     "output_type": "stream",
     "text": [
      "1/1 [==============================] - 1s 1s/step\n",
      "The predicted sentiment is Non Suicidal\n"
     ]
    }
   ],
   "source": [
    "predict_class(['Despite the setbacks, I remain optimistic that things will improve, and good times are just around the corner'])"
   ]
  },
  {
   "cell_type": "code",
   "execution_count": 6,
   "id": "d0cc5005",
   "metadata": {},
   "outputs": [
    {
     "name": "stdout",
     "output_type": "stream",
     "text": [
      "1/1 [==============================] - 0s 31ms/step\n",
      "The predicted sentiment is Suicidal\n"
     ]
    }
   ],
   "source": [
    "predict_class(['Why is God so unfair to me! I have no one to love in this world, no one wants to love me, and I dont see hope for my future life!'])"
   ]
  },
  {
   "cell_type": "code",
   "execution_count": 29,
   "id": "301ad30c",
   "metadata": {},
   "outputs": [
    {
     "name": "stdout",
     "output_type": "stream",
     "text": [
      "1/1 [==============================] - 0s 17ms/step\n",
      "The predicted sentiment is Non Suicidal\n"
     ]
    }
   ],
   "source": [
    "predict_class(['Scientists have discovered a strange, never-before-seen creature in the deep ocean that looks and behaves unlike anything known on Earth, according to new reports.'])"
   ]
  },
  {
   "cell_type": "code",
   "execution_count": 33,
   "id": "9cce08d0",
   "metadata": {},
   "outputs": [
    {
     "name": "stdout",
     "output_type": "stream",
     "text": [
      "1/1 [==============================] - 0s 16ms/step\n",
      "The predicted sentiment is Suicidal\n"
     ]
    }
   ],
   "source": [
    "predict_class(['It’s been pain, unhappiness, loneliness and one setback after another. I’m tired of trying. Of hoping things will get better. '])"
   ]
  },
  {
   "cell_type": "code",
   "execution_count": null,
   "id": "c5fe2446",
   "metadata": {},
   "outputs": [],
   "source": []
  },
  {
   "cell_type": "markdown",
   "id": "ab467d34",
   "metadata": {},
   "source": [
    "## Dashboard"
   ]
  },
  {
   "cell_type": "code",
   "execution_count": 9,
   "id": "b0a720de",
   "metadata": {},
   "outputs": [
    {
     "data": {
      "text/html": [
       "\n",
       "        <iframe\n",
       "            width=\"100%\"\n",
       "            height=\"650\"\n",
       "            src=\"http://127.0.0.1:8050/\"\n",
       "            frameborder=\"0\"\n",
       "            allowfullscreen\n",
       "            \n",
       "        ></iframe>\n",
       "        "
      ],
      "text/plain": [
       "<IPython.lib.display.IFrame at 0x1fe7e01fc70>"
      ]
     },
     "metadata": {},
     "output_type": "display_data"
    },
    {
     "name": "stdout",
     "output_type": "stream",
     "text": [
      "1/1 [==============================] - 1s 884ms/step\n",
      "1/1 [==============================] - 0s 30ms/step\n",
      "1/1 [==============================] - 0s 34ms/step\n",
      "1/1 [==============================] - 0s 33ms/step\n",
      "1/1 [==============================] - 0s 35ms/step\n",
      "1/1 [==============================] - 0s 32ms/step\n",
      "1/1 [==============================] - 0s 33ms/step\n",
      "1/1 [==============================] - 0s 29ms/step\n"
     ]
    }
   ],
   "source": [
    "import dash\n",
    "from dash import dcc, html\n",
    "from dash.dependencies import Input, Output\n",
    "import dash_bootstrap_components as dbc\n",
    "import pickle\n",
    "from keras.preprocessing.sequence import pad_sequences\n",
    "from keras.models import load_model\n",
    "\n",
    "# Load Tokenizer and Model\n",
    "with open('tokenizer.pickle', 'rb') as handle:\n",
    "    tokenizer = pickle.load(handle)\n",
    "model = load_model('best_model.h5')\n",
    "\n",
    "def predict_class(text):\n",
    "    sentiment_classes = ['Non Suicidal', 'Suicidal']\n",
    "    max_len = 50\n",
    "    xt = tokenizer.texts_to_sequences([text])\n",
    "    xt = pad_sequences(xt, padding='post', maxlen=max_len)\n",
    "    yt_prob = model.predict(xt)\n",
    "    yt = (yt_prob > 0.5).astype(int)\n",
    "    return sentiment_classes[yt[0][0]]\n",
    "\n",
    "# Dash App\n",
    "app = dash.Dash(__name__, external_stylesheets=[dbc.themes.BOOTSTRAP])\n",
    "\n",
    "app.layout = dbc.Container(\n",
    "    [\n",
    "        html.H1(\"Suicidal Ideation Recognition System\"),\n",
    "        html.Hr(),\n",
    "        dbc.Row(\n",
    "            [\n",
    "                dbc.Col(\n",
    "                    [\n",
    "                        dcc.Textarea(\n",
    "                            id=\"text-input\",\n",
    "                            placeholder=\"Enter your text...\",\n",
    "                            style={\"width\": \"100%\", \"height\": \"150px\"},\n",
    "                        ),\n",
    "                        dbc.Button(\"Predict\", id=\"predict-button\", color=\"primary\", className=\"mt-2\"),\n",
    "                    ],\n",
    "                    md=4,\n",
    "                ),\n",
    "                dbc.Col(\n",
    "                    html.Div(id=\"prediction-output\", className=\"mt-5\"), md=8\n",
    "                ),\n",
    "            ]\n",
    "        ),\n",
    "    ],\n",
    "    fluid=True,\n",
    ")\n",
    "\n",
    "@app.callback(\n",
    "    Output(\"prediction-output\", \"children\"),\n",
    "    [Input(\"predict-button\", \"n_clicks\")],\n",
    "    [dash.dependencies.State(\"text-input\", \"value\")],\n",
    ")\n",
    "def predict(n_clicks, text):\n",
    "    if not n_clicks:\n",
    "        return \"Please type a text and press predict.\"\n",
    "    \n",
    "    prediction = predict_class(text)\n",
    "    return f\"The predicted sentiment is {prediction}\"\n",
    "\n",
    "if __name__ == \"__main__\":\n",
    "    app.run_server(debug=True)\n"
   ]
  }
 ],
 "metadata": {
  "kernelspec": {
   "display_name": "data_analytics",
   "language": "python",
   "name": "data_analytics"
  },
  "language_info": {
   "codemirror_mode": {
    "name": "ipython",
    "version": 3
   },
   "file_extension": ".py",
   "mimetype": "text/x-python",
   "name": "python",
   "nbconvert_exporter": "python",
   "pygments_lexer": "ipython3",
   "version": "3.9.16"
  }
 },
 "nbformat": 4,
 "nbformat_minor": 5
}
