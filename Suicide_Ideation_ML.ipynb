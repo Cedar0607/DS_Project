{
 "cells": [
  {
   "cell_type": "markdown",
   "id": "fa4d4c06",
   "metadata": {},
   "source": [
    "## Library Imports"
   ]
  },
  {
   "cell_type": "code",
   "execution_count": 1,
   "id": "5a7abafe",
   "metadata": {},
   "outputs": [],
   "source": [
    "import pandas as pd\n",
    "import numpy as np\n",
    "from sklearn.feature_extraction.text import TfidfVectorizer\n",
    "from sklearn.preprocessing import LabelEncoder\n",
    "import string\n",
    "from nltk.corpus import stopwords\n",
    "import re\n",
    "from sklearn.model_selection import train_test_split\n",
    "import plotly.express as plx\n",
    "import matplotlib.pyplot as plt\n",
    "import seaborn as sns"
   ]
  },
  {
   "cell_type": "code",
   "execution_count": 2,
   "id": "106bb878",
   "metadata": {},
   "outputs": [],
   "source": [
    "data = pd.read_csv('Suicide ideation.csv')"
   ]
  },
  {
   "cell_type": "code",
   "execution_count": 3,
   "id": "86225b6d",
   "metadata": {
    "scrolled": true
   },
   "outputs": [
    {
     "data": {
      "text/html": [
       "<div>\n",
       "<style scoped>\n",
       "    .dataframe tbody tr th:only-of-type {\n",
       "        vertical-align: middle;\n",
       "    }\n",
       "\n",
       "    .dataframe tbody tr th {\n",
       "        vertical-align: top;\n",
       "    }\n",
       "\n",
       "    .dataframe thead th {\n",
       "        text-align: right;\n",
       "    }\n",
       "</style>\n",
       "<table border=\"1\" class=\"dataframe\">\n",
       "  <thead>\n",
       "    <tr style=\"text-align: right;\">\n",
       "      <th></th>\n",
       "      <th>Unnamed: 0</th>\n",
       "      <th>text</th>\n",
       "      <th>class</th>\n",
       "    </tr>\n",
       "  </thead>\n",
       "  <tbody>\n",
       "    <tr>\n",
       "      <th>0</th>\n",
       "      <td>2</td>\n",
       "      <td>Ex Wife Threatening SuicideRecently I left my ...</td>\n",
       "      <td>suicide</td>\n",
       "    </tr>\n",
       "    <tr>\n",
       "      <th>1</th>\n",
       "      <td>3</td>\n",
       "      <td>Am I weird I don't get affected by compliments...</td>\n",
       "      <td>non-suicide</td>\n",
       "    </tr>\n",
       "    <tr>\n",
       "      <th>2</th>\n",
       "      <td>4</td>\n",
       "      <td>Finally 2020 is almost over... So I can never ...</td>\n",
       "      <td>non-suicide</td>\n",
       "    </tr>\n",
       "    <tr>\n",
       "      <th>3</th>\n",
       "      <td>8</td>\n",
       "      <td>i need helpjust help me im crying so hard</td>\n",
       "      <td>suicide</td>\n",
       "    </tr>\n",
       "    <tr>\n",
       "      <th>4</th>\n",
       "      <td>9</td>\n",
       "      <td>I’m so lostHello, my name is Adam (16) and I’v...</td>\n",
       "      <td>suicide</td>\n",
       "    </tr>\n",
       "    <tr>\n",
       "      <th>5</th>\n",
       "      <td>11</td>\n",
       "      <td>Honetly idkI dont know what im even doing here...</td>\n",
       "      <td>suicide</td>\n",
       "    </tr>\n",
       "    <tr>\n",
       "      <th>6</th>\n",
       "      <td>12</td>\n",
       "      <td>[Trigger warning] Excuse for self inflicted bu...</td>\n",
       "      <td>suicide</td>\n",
       "    </tr>\n",
       "    <tr>\n",
       "      <th>7</th>\n",
       "      <td>13</td>\n",
       "      <td>It ends tonight.I can’t do it anymore. \\nI quit.</td>\n",
       "      <td>suicide</td>\n",
       "    </tr>\n",
       "    <tr>\n",
       "      <th>8</th>\n",
       "      <td>16</td>\n",
       "      <td>Everyone wants to be \"edgy\" and it's making me...</td>\n",
       "      <td>non-suicide</td>\n",
       "    </tr>\n",
       "    <tr>\n",
       "      <th>9</th>\n",
       "      <td>18</td>\n",
       "      <td>My life is over at 20 years oldHello all. I am...</td>\n",
       "      <td>suicide</td>\n",
       "    </tr>\n",
       "  </tbody>\n",
       "</table>\n",
       "</div>"
      ],
      "text/plain": [
       "   Unnamed: 0                                               text        class\n",
       "0           2  Ex Wife Threatening SuicideRecently I left my ...      suicide\n",
       "1           3  Am I weird I don't get affected by compliments...  non-suicide\n",
       "2           4  Finally 2020 is almost over... So I can never ...  non-suicide\n",
       "3           8          i need helpjust help me im crying so hard      suicide\n",
       "4           9  I’m so lostHello, my name is Adam (16) and I’v...      suicide\n",
       "5          11  Honetly idkI dont know what im even doing here...      suicide\n",
       "6          12  [Trigger warning] Excuse for self inflicted bu...      suicide\n",
       "7          13   It ends tonight.I can’t do it anymore. \\nI quit.      suicide\n",
       "8          16  Everyone wants to be \"edgy\" and it's making me...  non-suicide\n",
       "9          18  My life is over at 20 years oldHello all. I am...      suicide"
      ]
     },
     "execution_count": 3,
     "metadata": {},
     "output_type": "execute_result"
    }
   ],
   "source": [
    "data.head(10)"
   ]
  },
  {
   "cell_type": "code",
   "execution_count": 4,
   "id": "5e09f0d0",
   "metadata": {},
   "outputs": [],
   "source": [
    "# Digitize text attributes\n",
    "data['target'] = data['class'].apply(lambda x: 1 if x == 'suicide' else 0)\n",
    "# rename the first column and set it to an orders series starting at 0\n",
    "data = data.rename(columns={'Unnamed: 0': 'number'})\n",
    "data['number'] = range(len(data))"
   ]
  },
  {
   "cell_type": "code",
   "execution_count": 5,
   "id": "b6cdac79",
   "metadata": {},
   "outputs": [
    {
     "data": {
      "text/html": [
       "<div>\n",
       "<style scoped>\n",
       "    .dataframe tbody tr th:only-of-type {\n",
       "        vertical-align: middle;\n",
       "    }\n",
       "\n",
       "    .dataframe tbody tr th {\n",
       "        vertical-align: top;\n",
       "    }\n",
       "\n",
       "    .dataframe thead th {\n",
       "        text-align: right;\n",
       "    }\n",
       "</style>\n",
       "<table border=\"1\" class=\"dataframe\">\n",
       "  <thead>\n",
       "    <tr style=\"text-align: right;\">\n",
       "      <th></th>\n",
       "      <th>number</th>\n",
       "      <th>text</th>\n",
       "      <th>class</th>\n",
       "      <th>target</th>\n",
       "    </tr>\n",
       "  </thead>\n",
       "  <tbody>\n",
       "    <tr>\n",
       "      <th>0</th>\n",
       "      <td>0</td>\n",
       "      <td>Ex Wife Threatening SuicideRecently I left my ...</td>\n",
       "      <td>suicide</td>\n",
       "      <td>1</td>\n",
       "    </tr>\n",
       "    <tr>\n",
       "      <th>1</th>\n",
       "      <td>1</td>\n",
       "      <td>Am I weird I don't get affected by compliments...</td>\n",
       "      <td>non-suicide</td>\n",
       "      <td>0</td>\n",
       "    </tr>\n",
       "    <tr>\n",
       "      <th>2</th>\n",
       "      <td>2</td>\n",
       "      <td>Finally 2020 is almost over... So I can never ...</td>\n",
       "      <td>non-suicide</td>\n",
       "      <td>0</td>\n",
       "    </tr>\n",
       "    <tr>\n",
       "      <th>3</th>\n",
       "      <td>3</td>\n",
       "      <td>i need helpjust help me im crying so hard</td>\n",
       "      <td>suicide</td>\n",
       "      <td>1</td>\n",
       "    </tr>\n",
       "    <tr>\n",
       "      <th>4</th>\n",
       "      <td>4</td>\n",
       "      <td>I’m so lostHello, my name is Adam (16) and I’v...</td>\n",
       "      <td>suicide</td>\n",
       "      <td>1</td>\n",
       "    </tr>\n",
       "    <tr>\n",
       "      <th>5</th>\n",
       "      <td>5</td>\n",
       "      <td>Honetly idkI dont know what im even doing here...</td>\n",
       "      <td>suicide</td>\n",
       "      <td>1</td>\n",
       "    </tr>\n",
       "    <tr>\n",
       "      <th>6</th>\n",
       "      <td>6</td>\n",
       "      <td>[Trigger warning] Excuse for self inflicted bu...</td>\n",
       "      <td>suicide</td>\n",
       "      <td>1</td>\n",
       "    </tr>\n",
       "    <tr>\n",
       "      <th>7</th>\n",
       "      <td>7</td>\n",
       "      <td>It ends tonight.I can’t do it anymore. \\nI quit.</td>\n",
       "      <td>suicide</td>\n",
       "      <td>1</td>\n",
       "    </tr>\n",
       "    <tr>\n",
       "      <th>8</th>\n",
       "      <td>8</td>\n",
       "      <td>Everyone wants to be \"edgy\" and it's making me...</td>\n",
       "      <td>non-suicide</td>\n",
       "      <td>0</td>\n",
       "    </tr>\n",
       "    <tr>\n",
       "      <th>9</th>\n",
       "      <td>9</td>\n",
       "      <td>My life is over at 20 years oldHello all. I am...</td>\n",
       "      <td>suicide</td>\n",
       "      <td>1</td>\n",
       "    </tr>\n",
       "  </tbody>\n",
       "</table>\n",
       "</div>"
      ],
      "text/plain": [
       "   number                                               text        class   \n",
       "0       0  Ex Wife Threatening SuicideRecently I left my ...      suicide  \\\n",
       "1       1  Am I weird I don't get affected by compliments...  non-suicide   \n",
       "2       2  Finally 2020 is almost over... So I can never ...  non-suicide   \n",
       "3       3          i need helpjust help me im crying so hard      suicide   \n",
       "4       4  I’m so lostHello, my name is Adam (16) and I’v...      suicide   \n",
       "5       5  Honetly idkI dont know what im even doing here...      suicide   \n",
       "6       6  [Trigger warning] Excuse for self inflicted bu...      suicide   \n",
       "7       7   It ends tonight.I can’t do it anymore. \\nI quit.      suicide   \n",
       "8       8  Everyone wants to be \"edgy\" and it's making me...  non-suicide   \n",
       "9       9  My life is over at 20 years oldHello all. I am...      suicide   \n",
       "\n",
       "   target  \n",
       "0       1  \n",
       "1       0  \n",
       "2       0  \n",
       "3       1  \n",
       "4       1  \n",
       "5       1  \n",
       "6       1  \n",
       "7       1  \n",
       "8       0  \n",
       "9       1  "
      ]
     },
     "execution_count": 5,
     "metadata": {},
     "output_type": "execute_result"
    }
   ],
   "source": [
    "data.head(10)"
   ]
  },
  {
   "cell_type": "code",
   "execution_count": 6,
   "id": "067d4e46",
   "metadata": {},
   "outputs": [
    {
     "data": {
      "text/plain": [
       "class\n",
       "suicide        116037\n",
       "non-suicide    116037\n",
       "Name: count, dtype: int64"
      ]
     },
     "execution_count": 6,
     "metadata": {},
     "output_type": "execute_result"
    }
   ],
   "source": [
    "data['class'].value_counts()"
   ]
  },
  {
   "cell_type": "code",
   "execution_count": 7,
   "id": "33f1cebd",
   "metadata": {},
   "outputs": [
    {
     "data": {
      "text/plain": [
       "array(['suicide', 'non-suicide'], dtype=object)"
      ]
     },
     "execution_count": 7,
     "metadata": {},
     "output_type": "execute_result"
    }
   ],
   "source": [
    "data['class'].value_counts().index.values"
   ]
  },
  {
   "cell_type": "markdown",
   "id": "13405c46",
   "metadata": {},
   "source": [
    "## Data Cleansing"
   ]
  },
  {
   "cell_type": "code",
   "execution_count": 8,
   "id": "45492d5b",
   "metadata": {},
   "outputs": [],
   "source": [
    "# version 2\n",
    "def preprocess_data(text):\n",
    "    text_punc_removed = [word for word in text if word not in string.punctuation]\n",
    "    text_joined = ''.join(text_punc_removed)\n",
    "    text_preprocessed = [word for word in text_joined.split(' ') if word not in stopwords.words('english')]\n",
    "    return text_preprocessed"
   ]
  },
  {
   "cell_type": "markdown",
   "id": "8d6cf3bb",
   "metadata": {},
   "source": [
    "### Bag of Words model"
   ]
  },
  {
   "cell_type": "code",
   "execution_count": 9,
   "id": "4fb0fbf4",
   "metadata": {},
   "outputs": [],
   "source": [
    "from sklearn.feature_extraction.text import CountVectorizer"
   ]
  },
  {
   "cell_type": "code",
   "execution_count": null,
   "id": "8de04c77",
   "metadata": {},
   "outputs": [],
   "source": [
    "vectorizer = CountVectorizer(analyzer=preprocess_data)\n",
    "text_vectorizer = vectorizer.fit_transform(data['text'])\n",
    "print(vectorizer.get_feature_names())"
   ]
  },
  {
   "cell_type": "code",
   "execution_count": 11,
   "id": "9e4da7b5",
   "metadata": {},
   "outputs": [
    {
     "data": {
      "text/plain": [
       "(232074, 454217)"
      ]
     },
     "execution_count": 11,
     "metadata": {},
     "output_type": "execute_result"
    }
   ],
   "source": [
    "text_vectorizer.shape"
   ]
  },
  {
   "cell_type": "code",
   "execution_count": 12,
   "id": "96b2b29f",
   "metadata": {},
   "outputs": [
    {
     "name": "stdout",
     "output_type": "stream",
     "text": [
      "(232074, 100)\n"
     ]
    }
   ],
   "source": [
    "from sklearn.decomposition import TruncatedSVD\n",
    "\n",
    "# Set the target dimension\n",
    "target_dimension = 100\n",
    "\n",
    "# Create TruncatedSVD for dimensionality reduction\n",
    "svd = TruncatedSVD(n_components=target_dimension)\n",
    "text_vectorizer_reduced = svd.fit_transform(text_vectorizer)\n",
    "\n",
    "# Print the shape\n",
    "print(text_vectorizer_reduced.shape)"
   ]
  },
  {
   "cell_type": "code",
   "execution_count": 13,
   "id": "60bb297b",
   "metadata": {},
   "outputs": [
    {
     "data": {
      "text/plain": [
       "numpy.ndarray"
      ]
     },
     "execution_count": 13,
     "metadata": {},
     "output_type": "execute_result"
    }
   ],
   "source": [
    "type(text_vectorizer_reduced)"
   ]
  },
  {
   "cell_type": "code",
   "execution_count": 14,
   "id": "41a96032",
   "metadata": {},
   "outputs": [
    {
     "data": {
      "text/plain": [
       "(232074,)"
      ]
     },
     "execution_count": 14,
     "metadata": {},
     "output_type": "execute_result"
    }
   ],
   "source": [
    "label = data['target']\n",
    "label.shape"
   ]
  },
  {
   "cell_type": "markdown",
   "id": "ee109f5f",
   "metadata": {},
   "source": [
    "### TF-IDF"
   ]
  },
  {
   "cell_type": "code",
   "execution_count": null,
   "id": "abe6f818",
   "metadata": {},
   "outputs": [],
   "source": [
    "# Create the TF-IDF vectorizer\n",
    "vectorizer_tf = TfidfVectorizer(analyzer=preprocess_data)\n",
    "text_vectorizer_tf = vectorizer_tf.fit_transform(data['text'])\n",
    "print(vectorizer_tf.get_feature_names())"
   ]
  },
  {
   "cell_type": "code",
   "execution_count": 34,
   "id": "34f51076",
   "metadata": {},
   "outputs": [
    {
     "data": {
      "text/plain": [
       "(232074, 454217)"
      ]
     },
     "execution_count": 34,
     "metadata": {},
     "output_type": "execute_result"
    }
   ],
   "source": [
    "text_vectorizer_tf.shape"
   ]
  },
  {
   "cell_type": "code",
   "execution_count": 35,
   "id": "5f191999",
   "metadata": {},
   "outputs": [
    {
     "name": "stdout",
     "output_type": "stream",
     "text": [
      "(232074, 100)\n"
     ]
    }
   ],
   "source": [
    "# Set the target dimension\n",
    "target_dimension = 100\n",
    "\n",
    "# Create TruncatedSVD for dimensionality reduction\n",
    "svd = TruncatedSVD(n_components=target_dimension)\n",
    "text_vectorizer_tf_reduced = svd.fit_transform(text_vectorizer_tf)\n",
    "\n",
    "# Print the shape\n",
    "print(text_vectorizer_tf_reduced.shape)"
   ]
  },
  {
   "cell_type": "markdown",
   "id": "0b017e63",
   "metadata": {},
   "source": [
    "## Training the model and model prediction\n",
    "    · Bag of Words"
   ]
  },
  {
   "cell_type": "code",
   "execution_count": 15,
   "id": "be2679a9",
   "metadata": {},
   "outputs": [],
   "source": [
    "# split the train and test dataset\n",
    "X = text_vectorizer_reduced\n",
    "y = label\n",
    "X_train, X_test, y_train, y_test = train_test_split(X, y, test_size=0.2, random_state=10)"
   ]
  },
  {
   "cell_type": "code",
   "execution_count": 20,
   "id": "e886c431",
   "metadata": {},
   "outputs": [
    {
     "name": "stdout",
     "output_type": "stream",
     "text": [
      "LogisticRegression took 503.68 seconds to fit.\n",
      "DecisionTreeClassifier took 140.80 seconds to fit.\n",
      "RandomForestClassifier took 812.34 seconds to fit.\n",
      "GaussianNB took 1.52 seconds to fit.\n",
      "LogisticRegression cross-validation scores: [0.86394485 0.86362167 0.85966282 0.86119789 0.86501845]\n",
      "Mean cross-validation score: 0.86\n",
      "DecisionTreeClassifier cross-validation scores: [0.77458796 0.7721911  0.7688786  0.77146397 0.774932  ]\n",
      "Mean cross-validation score: 0.77\n",
      "RandomForestClassifier cross-validation scores: [0.85446515 0.85260692 0.85287623 0.85430357 0.85852791]\n",
      "Mean cross-validation score: 0.85\n",
      "GaussianNB cross-validation scores: [0.51656253 0.51677798 0.51699343 0.51745125 0.51733053]\n",
      "Mean cross-validation score: 0.52\n"
     ]
    }
   ],
   "source": [
    "import time\n",
    "from sklearn.model_selection import cross_val_score\n",
    "from sklearn.linear_model import LogisticRegression\n",
    "from sklearn.tree import DecisionTreeClassifier\n",
    "from sklearn.ensemble import RandomForestClassifier\n",
    "from sklearn.naive_bayes import GaussianNB\n",
    "\n",
    "# Instantiate the models\n",
    "LR = LogisticRegression(max_iter=5000)\n",
    "DTC = DecisionTreeClassifier()\n",
    "RFC = RandomForestClassifier()\n",
    "NB = GaussianNB()\n",
    "\n",
    "# Create a dictionary to store the model names and their corresponding fit times\n",
    "fit_times = {}\n",
    "\n",
    "# Create a dictionary to store the model names and their corresponding cross-validation scores\n",
    "cv_scores = {}\n",
    "\n",
    "# Perform cross-validation and record fit times and scores for each model\n",
    "start_time = time.time()\n",
    "cv_scores['LogisticRegression'] = cross_val_score(LR, X_train, y_train, cv=5)\n",
    "fit_times['LogisticRegression'] = time.time() - start_time\n",
    "\n",
    "start_time = time.time()\n",
    "cv_scores['DecisionTreeClassifier'] = cross_val_score(DTC, X_train, y_train, cv=5)\n",
    "fit_times['DecisionTreeClassifier'] = time.time() - start_time\n",
    "\n",
    "start_time = time.time()\n",
    "cv_scores['RandomForestClassifier'] = cross_val_score(RFC, X_train, y_train, cv=5)\n",
    "fit_times['RandomForestClassifier'] = time.time() - start_time\n",
    "\n",
    "start_time = time.time()\n",
    "cv_scores['GaussianNB'] = cross_val_score(NB, X_train, y_train, cv=5)\n",
    "fit_times['GaussianNB'] = time.time() - start_time\n",
    "\n",
    "# Print the fit times and cross-validation scores\n",
    "for model, time_taken in fit_times.items():\n",
    "    print(f\"{model} took {time_taken:.2f} seconds to fit.\")\n",
    "\n",
    "for model, scores in cv_scores.items():\n",
    "    print(f\"{model} cross-validation scores: {scores}\")\n",
    "    print(f\"Mean cross-validation score: {scores.mean():.2f}\")"
   ]
  },
  {
   "cell_type": "code",
   "execution_count": 21,
   "id": "59755ae0",
   "metadata": {},
   "outputs": [
    {
     "name": "stdout",
     "output_type": "stream",
     "text": [
      "Model: Logistic Regression\n",
      "Accuracy: 0.8615749219002478\n",
      "Classification Report:\n",
      "              precision    recall  f1-score   support\n",
      "\n",
      "           0       0.82      0.93      0.87     23209\n",
      "           1       0.92      0.80      0.85     23206\n",
      "\n",
      "    accuracy                           0.86     46415\n",
      "   macro avg       0.87      0.86      0.86     46415\n",
      "weighted avg       0.87      0.86      0.86     46415\n",
      "\n",
      "\n",
      "\n",
      "Model: Decision Tree\n",
      "Accuracy: 0.7746202736184423\n",
      "Classification Report:\n",
      "              precision    recall  f1-score   support\n",
      "\n",
      "           0       0.78      0.77      0.77     23209\n",
      "           1       0.77      0.78      0.78     23206\n",
      "\n",
      "    accuracy                           0.77     46415\n",
      "   macro avg       0.77      0.77      0.77     46415\n",
      "weighted avg       0.77      0.77      0.77     46415\n",
      "\n",
      "\n",
      "\n",
      "Model: Random Forest\n",
      "Accuracy: 0.8561456425724443\n",
      "Classification Report:\n",
      "              precision    recall  f1-score   support\n",
      "\n",
      "           0       0.85      0.87      0.86     23209\n",
      "           1       0.86      0.84      0.85     23206\n",
      "\n",
      "    accuracy                           0.86     46415\n",
      "   macro avg       0.86      0.86      0.86     46415\n",
      "weighted avg       0.86      0.86      0.86     46415\n",
      "\n",
      "\n",
      "\n",
      "Model: Gaussian NB\n",
      "Accuracy: 0.5172250350102338\n",
      "Classification Report:\n",
      "              precision    recall  f1-score   support\n",
      "\n",
      "           0       0.93      0.04      0.07     23209\n",
      "           1       0.51      1.00      0.67     23206\n",
      "\n",
      "    accuracy                           0.52     46415\n",
      "   macro avg       0.72      0.52      0.37     46415\n",
      "weighted avg       0.72      0.52      0.37     46415\n",
      "\n",
      "\n",
      "\n"
     ]
    }
   ],
   "source": [
    "from sklearn.metrics import accuracy_score, classification_report\n",
    "\n",
    "models = [('Logistic Regression', LR), ('Decision Tree', DTC), ('Random Forest', RFC), ('Gaussian NB', NB)]\n",
    "\n",
    "for model_name, model in models:\n",
    "    # Fit the model on the training data\n",
    "    model.fit(X_train, y_train)\n",
    "    \n",
    "    # Predict and evaluate the model on the test set\n",
    "    predictions = model.predict(X_test)\n",
    "    accuracy = accuracy_score(y_test, predictions)\n",
    "    report = classification_report(y_test, predictions)\n",
    "\n",
    "    # Print the evaluation metrics\n",
    "    print(f\"Model: {model_name}\")\n",
    "    print(\"Accuracy:\", accuracy)\n",
    "    print(\"Classification Report:\")\n",
    "    print(report)\n",
    "    print(\"\\n\")\n"
   ]
  },
  {
   "cell_type": "markdown",
   "id": "f02356e9",
   "metadata": {},
   "source": [
    "    · TF-IDF"
   ]
  },
  {
   "cell_type": "code",
   "execution_count": 37,
   "id": "f85ac678",
   "metadata": {},
   "outputs": [],
   "source": [
    "# split the train and test dataset for TF-IDF\n",
    "X_tf = text_vectorizer_tf_reduced\n",
    "y_tf = label\n",
    "X_train, X_test, y_train, y_test = train_test_split(X_tf, y_tf, test_size=0.2, random_state=10)"
   ]
  },
  {
   "cell_type": "code",
   "execution_count": 38,
   "id": "ef007379",
   "metadata": {},
   "outputs": [
    {
     "name": "stdout",
     "output_type": "stream",
     "text": [
      "LogisticRegression using TF-IDF took 18.72 seconds to fit.\n",
      "DecisionTreeClassifier using TF-IDF took 162.93 seconds to fit.\n",
      "RandomForestClassifier using TF-IDF took 837.37 seconds to fit.\n",
      "GaussianNB using TF-IDF took 1.49 seconds to fit.\n",
      "LogisticRegression using TF-IDF cross-validation scores: [0.90450285 0.90412582 0.90264462 0.90571475 0.90643936]\n",
      "Mean cross-validation score: 0.90\n",
      "DecisionTreeClassifier using TF-IDF cross-validation scores: [0.81266832 0.81124098 0.80919423 0.81398793 0.8143869 ]\n",
      "Mean cross-validation score: 0.81\n",
      "RandomForestClassifier using TF-IDF cross-validation scores: [0.88640526 0.88317354 0.88452009 0.88562426 0.88831435]\n",
      "Mean cross-validation score: 0.89\n",
      "GaussianNB using TF-IDF cross-validation scores: [0.7755844  0.77065604 0.76281913 0.76968652 0.77372007]\n",
      "Mean cross-validation score: 0.77\n"
     ]
    }
   ],
   "source": [
    "# Instantiate the models\n",
    "LR = LogisticRegression(max_iter=5000)\n",
    "DTC = DecisionTreeClassifier()\n",
    "RFC = RandomForestClassifier()\n",
    "NB = GaussianNB()\n",
    "\n",
    "fit_times = {}\n",
    "cv_scores = {}\n",
    "\n",
    "# Perform cross-validation and record fit times and scores for each model\n",
    "start_time = time.time()\n",
    "cv_scores['LogisticRegression'] = cross_val_score(LR, X_train, y_train, cv=5)\n",
    "fit_times['LogisticRegression'] = time.time() - start_time\n",
    "\n",
    "start_time = time.time()\n",
    "cv_scores['DecisionTreeClassifier'] = cross_val_score(DTC, X_train, y_train, cv=5)\n",
    "fit_times['DecisionTreeClassifier'] = time.time() - start_time\n",
    "\n",
    "start_time = time.time()\n",
    "cv_scores['RandomForestClassifier'] = cross_val_score(RFC, X_train, y_train, cv=5)\n",
    "fit_times['RandomForestClassifier'] = time.time() - start_time\n",
    "\n",
    "start_time = time.time()\n",
    "cv_scores['GaussianNB'] = cross_val_score(NB, X_train, y_train, cv=5)\n",
    "fit_times['GaussianNB'] = time.time() - start_time\n",
    "\n",
    "# Print the fit times and cross-validation scores\n",
    "for model, time_taken in fit_times.items():\n",
    "    print(f\"{model} using TF-IDF took {time_taken:.2f} seconds to fit.\")\n",
    "\n",
    "for model, scores in cv_scores.items():\n",
    "    print(f\"{model} using TF-IDF cross-validation scores: {scores}\")\n",
    "    print(f\"Mean cross-validation score: {scores.mean():.2f}\")"
   ]
  },
  {
   "cell_type": "code",
   "execution_count": 39,
   "id": "92a43abd",
   "metadata": {},
   "outputs": [
    {
     "name": "stdout",
     "output_type": "stream",
     "text": [
      "Model: Logistic Regression\n",
      "Accuracy: 0.9037595604869115\n",
      "Classification Report:\n",
      "              precision    recall  f1-score   support\n",
      "\n",
      "           0       0.89      0.93      0.91     23209\n",
      "           1       0.92      0.88      0.90     23206\n",
      "\n",
      "    accuracy                           0.90     46415\n",
      "   macro avg       0.90      0.90      0.90     46415\n",
      "weighted avg       0.90      0.90      0.90     46415\n",
      "\n",
      "\n",
      "\n",
      "Model: Decision Tree\n",
      "Accuracy: 0.8162447484649359\n",
      "Classification Report:\n",
      "              precision    recall  f1-score   support\n",
      "\n",
      "           0       0.82      0.82      0.82     23209\n",
      "           1       0.82      0.82      0.82     23206\n",
      "\n",
      "    accuracy                           0.82     46415\n",
      "   macro avg       0.82      0.82      0.82     46415\n",
      "weighted avg       0.82      0.82      0.82     46415\n",
      "\n",
      "\n",
      "\n",
      "Model: Random Forest\n",
      "Accuracy: 0.8868900140040935\n",
      "Classification Report:\n",
      "              precision    recall  f1-score   support\n",
      "\n",
      "           0       0.89      0.89      0.89     23209\n",
      "           1       0.89      0.89      0.89     23206\n",
      "\n",
      "    accuracy                           0.89     46415\n",
      "   macro avg       0.89      0.89      0.89     46415\n",
      "weighted avg       0.89      0.89      0.89     46415\n",
      "\n",
      "\n",
      "\n",
      "Model: Gaussian NB\n",
      "Accuracy: 0.7695572551976732\n",
      "Classification Report:\n",
      "              precision    recall  f1-score   support\n",
      "\n",
      "           0       0.82      0.70      0.75     23209\n",
      "           1       0.73      0.84      0.79     23206\n",
      "\n",
      "    accuracy                           0.77     46415\n",
      "   macro avg       0.78      0.77      0.77     46415\n",
      "weighted avg       0.78      0.77      0.77     46415\n",
      "\n",
      "\n",
      "\n"
     ]
    }
   ],
   "source": [
    "models = [('Logistic Regression', LR), ('Decision Tree', DTC), ('Random Forest', RFC), ('Gaussian NB', NB)]\n",
    "\n",
    "for model_name, model in models:\n",
    "    # Fit the model on the training data\n",
    "    model.fit(X_train, y_train)\n",
    "    \n",
    "    # Predict and evaluate the model on the test set\n",
    "    predictions = model.predict(X_test)\n",
    "    accuracy = accuracy_score(y_test, predictions)\n",
    "    report = classification_report(y_test, predictions)\n",
    "\n",
    "    # Print the evaluation metrics\n",
    "    print(f\"Model: {model_name}\")\n",
    "    print(\"Accuracy:\", accuracy)\n",
    "    print(\"Classification Report:\")\n",
    "    print(report)\n",
    "    print(\"\\n\")\n"
   ]
  },
  {
   "cell_type": "code",
   "execution_count": null,
   "id": "474780ea",
   "metadata": {},
   "outputs": [],
   "source": []
  },
  {
   "cell_type": "code",
   "execution_count": null,
   "id": "da765543",
   "metadata": {},
   "outputs": [],
   "source": []
  },
  {
   "cell_type": "code",
   "execution_count": null,
   "id": "d722d855",
   "metadata": {},
   "outputs": [],
   "source": []
  },
  {
   "cell_type": "code",
   "execution_count": null,
   "id": "4932d9d6",
   "metadata": {},
   "outputs": [],
   "source": []
  }
 ],
 "metadata": {
  "kernelspec": {
   "display_name": "data_analytics",
   "language": "python",
   "name": "data_analytics"
  },
  "language_info": {
   "codemirror_mode": {
    "name": "ipython",
    "version": 3
   },
   "file_extension": ".py",
   "mimetype": "text/x-python",
   "name": "python",
   "nbconvert_exporter": "python",
   "pygments_lexer": "ipython3",
   "version": "3.9.16"
  }
 },
 "nbformat": 4,
 "nbformat_minor": 5
}
